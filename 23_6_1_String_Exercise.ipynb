{
  "nbformat": 4,
  "nbformat_minor": 0,
  "metadata": {
    "colab": {
      "provenance": [],
      "include_colab_link": true
    },
    "kernelspec": {
      "name": "python3",
      "display_name": "Python 3"
    },
    "language_info": {
      "name": "python"
    }
  },
  "cells": [
    {
      "cell_type": "markdown",
      "metadata": {
        "id": "view-in-github",
        "colab_type": "text"
      },
      "source": [
        "<a href=\"https://colab.research.google.com/github/Sharmen96/Exercises-for-Python/blob/main/23_6_1_String_Exercise.ipynb\" target=\"_parent\"><img src=\"https://colab.research.google.com/assets/colab-badge.svg\" alt=\"Open In Colab\"/></a>"
      ]
    },
    {
      "cell_type": "markdown",
      "source": [
        "# This Exercise is to train your knowledge on the \"string\" data type\n",
        "\n",
        "Just a recap, as mentioned in class\n",
        "\n",
        "\n",
        "1.   strings are considered a sequence of characters\n",
        "2.   and you can perform various operations on them.\n",
        "\n",
        "\n",
        "\n",
        "Below is an example of of storing a \"string\" data type into a variable called \"str1\".\n",
        "\n",
        "\n",
        "---\n",
        "\n"
      ],
      "metadata": {
        "id": "hA1pCL_T-H-Z"
      }
    },
    {
      "cell_type": "code",
      "source": [
        "str1 = \"Hello my name is Jun\"\n",
        "\n",
        "print(str1)\n",
        "print(type(str1))"
      ],
      "metadata": {
        "colab": {
          "base_uri": "https://localhost:8080/"
        },
        "id": "FJqq0vxC-7Yx",
        "outputId": "923b4924-0d94-4e9c-bf5b-15c001530c27"
      },
      "execution_count": null,
      "outputs": [
        {
          "output_type": "stream",
          "name": "stdout",
          "text": [
            "Hello my name is Jun\n",
            "<class 'str'>\n"
          ]
        }
      ]
    },
    {
      "cell_type": "code",
      "source": [
        "str1 = \"Hello my name is Jun\"\n",
        "print(\"Hello my name is Jun\")\n",
        "print(str1)"
      ],
      "metadata": {
        "colab": {
          "base_uri": "https://localhost:8080/"
        },
        "id": "YOQhtafEJglj",
        "outputId": "1190285f-0aad-445b-a846-47e6df894cea"
      },
      "execution_count": null,
      "outputs": [
        {
          "output_type": "stream",
          "name": "stdout",
          "text": [
            "Hello my name is Jun\n",
            "Hello my name is Jun\n"
          ]
        }
      ]
    },
    {
      "cell_type": "markdown",
      "source": [
        "\n",
        "\n",
        "---\n",
        "\n",
        "### Exercise 1\n",
        "Create a variable called \"myString\" and store your name into this variable.\n",
        "Then, print the amount of words it contains.\n",
        "\n",
        "**Tip: Use the len() function**"
      ],
      "metadata": {
        "id": "R6TfjFrD-IDW"
      }
    },
    {
      "cell_type": "code",
      "source": [
        "# CODE HERE\n",
        "myString = \" Hi my name is Sharmendra\"\n",
        "print(len(myString))"
      ],
      "metadata": {
        "id": "BYKF71VX_vxa",
        "colab": {
          "base_uri": "https://localhost:8080/"
        },
        "outputId": "69d372fb-a2a5-4e04-a385-908b71c58943"
      },
      "execution_count": null,
      "outputs": [
        {
          "output_type": "stream",
          "name": "stdout",
          "text": [
            "25\n"
          ]
        }
      ]
    },
    {
      "cell_type": "code",
      "source": [
        "# DONT RUN THIS CELL (this is the expected output)"
      ],
      "metadata": {
        "colab": {
          "base_uri": "https://localhost:8080/"
        },
        "id": "7aPVB9r4AKHJ",
        "outputId": "db48889a-44df-4e1f-cb11-31f119bee8ef"
      },
      "execution_count": null,
      "outputs": [
        {
          "output_type": "stream",
          "name": "stdout",
          "text": [
            "3\n"
          ]
        }
      ]
    },
    {
      "cell_type": "markdown",
      "source": [
        "\n",
        "\n",
        "---\n",
        "\n",
        "### Exercise 2 (String Indexing)\n",
        "\n",
        "Just a recap, the concept of \"string indexing\" is to access 1 character of the string.\n",
        "\n",
        "\n",
        "\n",
        "```\n",
        "myString = \"Hello\"\n",
        "\n",
        "print(myString[0])  #prints \"H\"\n",
        "print(myString[1]) #prints \"e\"\n",
        "print(myString[-1]) #prints \"o\"\n",
        "```\n",
        "\n",
        "\n",
        "\n",
        "Using the given variable below, access the character \"J\" and print it out.\n"
      ],
      "metadata": {
        "id": "EU7meWhyrBSt"
      }
    },
    {
      "cell_type": "code",
      "source": [
        "# CODE HERE\n",
        "introduction = \"my name is Jun.\"\n",
        "print(introduction[-4])"
      ],
      "metadata": {
        "id": "j3edxZtbAQx7",
        "colab": {
          "base_uri": "https://localhost:8080/"
        },
        "outputId": "9e98d5c6-d6b3-44d0-dfe1-b80d1fd6bf89"
      },
      "execution_count": null,
      "outputs": [
        {
          "output_type": "stream",
          "name": "stdout",
          "text": [
            "J\n"
          ]
        }
      ]
    },
    {
      "cell_type": "code",
      "source": [
        "# DONT RUN THIS CELL (this is the expected output)"
      ],
      "metadata": {
        "colab": {
          "base_uri": "https://localhost:8080/"
        },
        "id": "dHokd6KXvxP3",
        "outputId": "bd06739e-83c3-444a-9528-261c5496bb64"
      },
      "execution_count": null,
      "outputs": [
        {
          "output_type": "stream",
          "name": "stdout",
          "text": [
            "J\n"
          ]
        }
      ]
    },
    {
      "cell_type": "markdown",
      "source": [
        "Using the given variable below, access the character \"n\" and print it out.\n",
        "\n",
        "**Tip : Use negative indexing**"
      ],
      "metadata": {
        "id": "GHGOqYuXwpZt"
      }
    },
    {
      "cell_type": "code",
      "source": [
        "# CODE HERE\n",
        "introduction = \"my name is Jun.\"\n",
        "print(introduction[-2])"
      ],
      "metadata": {
        "id": "IjzgiF-hvzU3",
        "colab": {
          "base_uri": "https://localhost:8080/"
        },
        "outputId": "e2c8bd8f-73c7-4a87-caba-7c93af3c911a"
      },
      "execution_count": null,
      "outputs": [
        {
          "output_type": "stream",
          "name": "stdout",
          "text": [
            "n\n"
          ]
        }
      ]
    },
    {
      "cell_type": "code",
      "source": [
        "# DONT RUN THIS CELL (this is the expected output)"
      ],
      "metadata": {
        "colab": {
          "base_uri": "https://localhost:8080/"
        },
        "id": "82vrycl2w5UC",
        "outputId": "66434616-bda0-427f-97d5-a0d0b4c79be7"
      },
      "execution_count": null,
      "outputs": [
        {
          "output_type": "stream",
          "name": "stdout",
          "text": [
            "n\n"
          ]
        }
      ]
    },
    {
      "cell_type": "markdown",
      "source": [
        "\n",
        "\n",
        "---\n",
        "\n",
        "### Exercise 3 (String Slicing)\n",
        "\n",
        "Just a recap, the concept of \"string slicing\" is to access **more than 1 character** of the string.\n",
        "\n",
        "\n",
        "\n",
        "```\n",
        "myString = \"Hello Jun\"\n",
        "\n",
        "print(myString[0:3])  #prints \"Hel\" (excluding index 3)\n",
        "print(myString[:3]) #prints \"Hel\"  (excluding index 3)\n",
        "print(myString[3:5]) #prints \"lo\" (excluding index 5)\n",
        "print(myString[6:]) # prints \"Jun\"\n",
        "```\n",
        "\n",
        "Using the given variable below, access the substring \"big\" and print it out.\n"
      ],
      "metadata": {
        "id": "CAPjvLNrxae9"
      }
    },
    {
      "cell_type": "code",
      "source": [
        "# CODE HERE\n",
        "str3 =\"My brother has a big house\"\n",
        "print(str3[17:20])"
      ],
      "metadata": {
        "id": "QrfbcgMiw7gQ",
        "colab": {
          "base_uri": "https://localhost:8080/"
        },
        "outputId": "de509353-aef2-4619-cec7-3b8e116709d7"
      },
      "execution_count": null,
      "outputs": [
        {
          "output_type": "stream",
          "name": "stdout",
          "text": [
            "big\n"
          ]
        }
      ]
    },
    {
      "cell_type": "code",
      "source": [
        "# DONT RUN THIS CELL (this is the expected output)"
      ],
      "metadata": {
        "colab": {
          "base_uri": "https://localhost:8080/"
        },
        "id": "C6PhqjRxyQhs",
        "outputId": "ed8b4697-0e9c-4713-85f5-6a25a9df2723"
      },
      "execution_count": null,
      "outputs": [
        {
          "output_type": "stream",
          "name": "stdout",
          "text": [
            "big\n"
          ]
        }
      ]
    },
    {
      "cell_type": "code",
      "source": [
        "word = \"big\"\n",
        "\n",
        "start_index = str3.find(word)\n",
        "end_index = start_index + len(word)\n",
        "\n",
        "print(f\"Start: {start_index}, End: {end_index}\")\n",
        "print(str3[start_index:end_index])"
      ],
      "metadata": {
        "colab": {
          "base_uri": "https://localhost:8080/"
        },
        "id": "DJ03Q4BOICNO",
        "outputId": "0e98f4a2-f15d-48b3-8012-e1c9c4823521"
      },
      "execution_count": null,
      "outputs": [
        {
          "output_type": "stream",
          "name": "stdout",
          "text": [
            "Start: 17, End: 20\n",
            "big\n"
          ]
        }
      ]
    },
    {
      "cell_type": "markdown",
      "source": [
        "\n",
        "\n",
        "---\n",
        "\n",
        "### Exercise 4 (String Concatenation)\n",
        "\n",
        "Just a recap, the concept of \"string concatenation\" is to **combine multiple strings together**.\n",
        "\n",
        "\n",
        "Example 1:\n",
        "```\n",
        "fruit = \"apple\"\n",
        "\n",
        "print(\"My brother's favourite fruit is \" + fruit)\n",
        "```\n"
      ],
      "metadata": {
        "id": "J3bJ5OkO3GTf"
      }
    },
    {
      "cell_type": "code",
      "source": [
        "fruit = \"apple\"\n",
        "\n",
        "print(\"My brother's favourite fruit is \"+fruit)"
      ],
      "metadata": {
        "colab": {
          "base_uri": "https://localhost:8080/"
        },
        "id": "wPhpCzMR4rNa",
        "outputId": "987d71ab-2c06-458b-be85-a4f19d3943c0"
      },
      "execution_count": null,
      "outputs": [
        {
          "output_type": "stream",
          "name": "stdout",
          "text": [
            "My brother's favourite fruit is apple\n"
          ]
        }
      ]
    },
    {
      "cell_type": "markdown",
      "source": [
        "Example 2"
      ],
      "metadata": {
        "id": "LhndCSxs4v0f"
      }
    },
    {
      "cell_type": "code",
      "source": [
        "str1 = \"This is content 1\"\n",
        "str2 = \"This is content 2\"\n",
        "\n",
        "print(str1 + str2)"
      ],
      "metadata": {
        "colab": {
          "base_uri": "https://localhost:8080/"
        },
        "id": "d2NmxNuC40Sd",
        "outputId": "55f041eb-3475-4f8e-a716-5a574cd264db"
      },
      "execution_count": null,
      "outputs": [
        {
          "output_type": "stream",
          "name": "stdout",
          "text": [
            "This is content 1This is content 2\n"
          ]
        }
      ]
    },
    {
      "cell_type": "markdown",
      "source": [
        "Create 2 variables called \"str1\" and \"str2\".\n",
        "\n",
        "\n",
        "\n",
        "Then print out the concatenated output"
      ],
      "metadata": {
        "id": "U62YqV-J44DY"
      }
    },
    {
      "cell_type": "code",
      "source": [
        "#CODE HERE\n",
        "str1 = \"This is Sharmendra\"\n",
        "str2 = \", Sharmendra's father name is Mahendran\"\n",
        "\n",
        "print(str1 + str2)"
      ],
      "metadata": {
        "id": "qrcjdfCv4f_5",
        "colab": {
          "base_uri": "https://localhost:8080/"
        },
        "outputId": "63463177-15d0-4bc7-dfec-10e9032b0cb8"
      },
      "execution_count": null,
      "outputs": [
        {
          "output_type": "stream",
          "name": "stdout",
          "text": [
            "This is Sharmendra, Sharmendra's father name is Mahendran\n"
          ]
        }
      ]
    },
    {
      "cell_type": "markdown",
      "source": [
        "\n",
        "\n",
        "---\n",
        "\n",
        "### Exercise 5 (String Methods)\n",
        "\n",
        "There are multiple built-in string methods.\n",
        "\n",
        "For example\n",
        "\n",
        "\n",
        "*   .upper()\n",
        "*   .capitalize()\n",
        "*   .lower()\n",
        "\n",
        "Example below is to transform the whole string to uppercase.\n"
      ],
      "metadata": {
        "id": "jC6toXVT46_V"
      }
    },
    {
      "cell_type": "code",
      "source": [
        "str4 = \"HELLO MY NAME IS JUN\"\n",
        "\n",
        "print(str4.lower())"
      ],
      "metadata": {
        "colab": {
          "base_uri": "https://localhost:8080/"
        },
        "id": "G3QiGEyF47TT",
        "outputId": "9523c451-be55-4c30-c193-0038d14cdb24"
      },
      "execution_count": null,
      "outputs": [
        {
          "output_type": "stream",
          "name": "stdout",
          "text": [
            "hello my name is jun\n"
          ]
        }
      ]
    },
    {
      "cell_type": "markdown",
      "source": [
        "Create a variable called \"str5\" and enter some text.\n",
        "\n",
        "Then use the .upper() on it."
      ],
      "metadata": {
        "id": "vjACv0IS5XzS"
      }
    },
    {
      "cell_type": "code",
      "source": [
        "# CODE HERE\n",
        "print(str4.upper())"
      ],
      "metadata": {
        "id": "xzE7BV855U25",
        "colab": {
          "base_uri": "https://localhost:8080/"
        },
        "outputId": "c7ced0b5-11c7-4367-83b1-783e0f578bdd"
      },
      "execution_count": null,
      "outputs": [
        {
          "output_type": "stream",
          "name": "stdout",
          "text": [
            "HELLO MY NAME IS JUN\n"
          ]
        }
      ]
    },
    {
      "cell_type": "markdown",
      "source": [
        "\n",
        "\n",
        "---\n",
        "\n",
        "### Exercise 6 (String Indexing & Slicing)\n",
        "\n",
        "Using the variable given below, perform the  the following tasks."
      ],
      "metadata": {
        "id": "-Ap2XYFhn1ok"
      }
    },
    {
      "cell_type": "code",
      "source": [
        "sentence = \"Bob wasn't feeling well today\"\n",
        "\n",
        "# Task 1: index 'f'\n",
        "\n",
        "# Task 2: index 't' from 'today'\n",
        "\n",
        "# Task 3: slice 'feel' and capitalize it\n",
        "\n",
        "# Task 4: slice 'today' and turn it to uppercase\n",
        "\n",
        "# Task 5: slice 'Bob' and turn it to lowercase"
      ],
      "metadata": {
        "id": "DEHy66CZn8yr"
      },
      "execution_count": null,
      "outputs": []
    },
    {
      "cell_type": "code",
      "source": [
        "# Task 1 :\n",
        "index_f = sentence.find(\"f\")\n",
        "print(sentence[index_f])\n",
        "print()\n",
        "# Task 2:\n",
        "\n",
        "index_t = sentence.rfind(\"t\")\n",
        "print(sentence[index_t])\n",
        "print()\n",
        "\n",
        "# Task 3:\n",
        "word3 = \"feel\"\n",
        "\n",
        "start_index = sentence.find(word3)\n",
        "end_index = start_index + len(word3)\n",
        "print(f\"Start: {start_index}, End: {end_index}\")\n",
        "print(sentence[start_index:end_index])\n",
        "\n",
        "# Task 4:\n",
        "\n",
        "word4 = \"today\"\n",
        "\n",
        "start_index = sentence.find(word4)\n",
        "end_index = start_index + len(word4)\n",
        "TOD= sentence[start_index:end_index] # assign it directly not through print()\n",
        "print(TOD.upper())\n",
        "\n",
        "\n",
        "\n",
        "\n"
      ],
      "metadata": {
        "colab": {
          "base_uri": "https://localhost:8080/"
        },
        "id": "WGMmbF9cK5el",
        "outputId": "82281e2d-11d7-4d90-d98b-19b604aeb1eb"
      },
      "execution_count": null,
      "outputs": [
        {
          "output_type": "stream",
          "name": "stdout",
          "text": [
            "f\n",
            "\n",
            "t\n",
            "\n",
            "Start: 11, End: 15\n",
            "feel\n",
            "TODAY\n"
          ]
        }
      ]
    },
    {
      "cell_type": "markdown",
      "source": [
        "#Answers"
      ],
      "metadata": {
        "id": "bTzCYyp_NI5-"
      }
    },
    {
      "cell_type": "code",
      "source": [
        "# Exercise 1\n",
        "myString = \"Jun\"\n",
        "print(len(myString))"
      ],
      "metadata": {
        "id": "L_XzSpKZNKS6",
        "colab": {
          "base_uri": "https://localhost:8080/"
        },
        "outputId": "20c0f082-3fbb-44fc-cfca-06470b81c5c1"
      },
      "execution_count": null,
      "outputs": [
        {
          "output_type": "stream",
          "name": "stdout",
          "text": [
            "3\n"
          ]
        }
      ]
    },
    {
      "cell_type": "code",
      "source": [
        "# Exercise 2\n",
        "str1 = \"Hello Jun\"\n",
        "print(str1[-3]) #negative indexing\n",
        "print(str1[6]) #normal indexing"
      ],
      "metadata": {
        "id": "-HIbPdU2NU-Z",
        "colab": {
          "base_uri": "https://localhost:8080/"
        },
        "outputId": "b2877207-4eab-4ae5-9472-6bf67495f88a"
      },
      "execution_count": null,
      "outputs": [
        {
          "output_type": "stream",
          "name": "stdout",
          "text": [
            "J\n",
            "J\n"
          ]
        }
      ]
    },
    {
      "cell_type": "code",
      "source": [
        "# Exercise 3\n",
        "str3 =\"My brother has a big house\"\n",
        "print(str3[17:20])"
      ],
      "metadata": {
        "id": "y61q6MfWNn7B",
        "colab": {
          "base_uri": "https://localhost:8080/"
        },
        "outputId": "416f0d4b-cfd2-4baa-a587-e83064ba6e93"
      },
      "execution_count": null,
      "outputs": [
        {
          "output_type": "stream",
          "name": "stdout",
          "text": [
            "big\n"
          ]
        }
      ]
    },
    {
      "cell_type": "code",
      "source": [
        "# Exercise 4\n",
        "str1 =\"Hello my name is Jun\"\n",
        "str2 =\"and I am 22 this year.\"\n",
        "print(str1 + \" \" + str2)"
      ],
      "metadata": {
        "id": "9l6hxpVkN9Yi",
        "colab": {
          "base_uri": "https://localhost:8080/"
        },
        "outputId": "6780ce8e-6d5a-4129-f6c9-ba05e1530af5"
      },
      "execution_count": null,
      "outputs": [
        {
          "output_type": "stream",
          "name": "stdout",
          "text": [
            "Hello my name is Jun and I am 22 this year.\n"
          ]
        }
      ]
    },
    {
      "cell_type": "code",
      "source": [
        "# Exercise 5\n",
        "str5 = \"hello my name is jun\"\n",
        "print(str5.upper())"
      ],
      "metadata": {
        "id": "SqQgElQMORRR",
        "colab": {
          "base_uri": "https://localhost:8080/"
        },
        "outputId": "e5f462a7-ad41-4f0d-cc19-ba3cb2afa501"
      },
      "execution_count": null,
      "outputs": [
        {
          "output_type": "stream",
          "name": "stdout",
          "text": [
            "HELLO MY NAME IS JUN\n"
          ]
        }
      ]
    },
    {
      "cell_type": "code",
      "source": [
        "# Exercise 6\n",
        "\n",
        "sentence = \"Bob wasn't feeling well today\"\n",
        "\n",
        "# Task 1: index 'f'\n",
        "print(sentence[11])\n",
        "\n",
        "# Task 2: index 't' from 'today'\n",
        "print(sentence[-5])\n",
        "\n",
        "# Task 3: slice 'feel'\n",
        "print(sentence[11:15].capitalize())\n",
        "\n",
        "# Task 4: slice 'today'\n",
        "print(sentence[24:].upper())\n",
        "\n",
        "# Task 5: slice 'bob'\n",
        "print(sentence[:3].lower())"
      ],
      "metadata": {
        "colab": {
          "base_uri": "https://localhost:8080/"
        },
        "id": "IBALEf4rpm0t",
        "outputId": "c44bffa9-572f-4752-b79b-05f35204cec8"
      },
      "execution_count": null,
      "outputs": [
        {
          "output_type": "stream",
          "name": "stdout",
          "text": [
            "f\n",
            "t\n",
            "Feel\n",
            "TODAY\n",
            "bob\n"
          ]
        }
      ]
    }
  ]
}